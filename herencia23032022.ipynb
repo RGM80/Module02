{
  "nbformat": 4,
  "nbformat_minor": 0,
  "metadata": {
    "colab": {
      "name": "herencia23032022.ipynb",
      "provenance": [],
      "collapsed_sections": [],
      "authorship_tag": "ABX9TyMT3Mf9tLcOtL62I2AQtQGE",
      "include_colab_link": true
    },
    "kernelspec": {
      "name": "python3",
      "display_name": "Python 3"
    },
    "language_info": {
      "name": "python"
    }
  },
  "cells": [
    {
      "cell_type": "markdown",
      "metadata": {
        "id": "view-in-github",
        "colab_type": "text"
      },
      "source": [
        "<a href=\"https://colab.research.google.com/github/RGM80/Module02/blob/main/herencia23032022.ipynb\" target=\"_parent\"><img src=\"https://colab.research.google.com/assets/colab-badge.svg\" alt=\"Open In Colab\"/></a>"
      ]
    },
    {
      "cell_type": "code",
      "execution_count": 1,
      "metadata": {
        "id": "iNC7eLPLlUuc"
      },
      "outputs": [],
      "source": [
        "class Tarjeta:\n",
        "  def __init__(self, numero, cuentah, caducidad, estado, cantidad = 0):\n",
        "    self.numero = numero\n",
        "    self.cuentahabiente = cuentah\n",
        "    self.caducidad = caducidad\n",
        "    self.estado = estado\n",
        "    self.saldo = cantidad\n",
        "    return\n",
        "\n",
        "  def __str__ (self):\n",
        "    return 'Tarjeta número {} del derechoabiente {} tiene una fecha de expiración {} , estado de la cuenta {}, cuenta con un saldo ${} '.format(self.numero, self.cuentahabiente, self.caducidad, self.estado,str(self.saldo))\n",
        "\n",
        "  def deposito (self, cantidad):\n",
        "      self.saldo += cantidad\n",
        "      #self.saldo =self.saldo + cantidad\n",
        "      return 'El saldo nuevo de la tarejeta es {}' . format(self.saldo )\n",
        "\n",
        "  def retirar (self, cantidad):\n",
        "      if self.saldo < cantidad:\n",
        "          msg = 'saldo insuficiente para el retiro'\n",
        "      else:\n",
        "          self.saldo -= cantidad\n",
        "          msg = 'el saldo nuevo de la tarjeta es {} '. format(self.saldo)\n",
        "          print (msg)\n",
        "\n",
        "  def mostrar_saldo (self):\n",
        "          #return 'el saldo actualde la cuenta: ', self.saldo\n",
        "          print('saldo actual de la cuenta es $:', self.saldo)    \n",
        "\n",
        "  def activar(self):\n",
        "    self.estado = 'Activa'\n",
        "    return\n",
        "           \n",
        "\n",
        "  def anular(self):\n",
        "    self.estado = 'Inactiva'\n",
        "    return\n",
        "              "
      ]
    },
    {
      "cell_type": "code",
      "source": [
        "class Debito (Tarjeta):\n",
        "  def __init__(self, numero, cuentah, caducidad, estado, tipo, emisor, cantidad = 0):\n",
        "    self.tipo = tipo\n",
        "    self.emisor = emisor\n",
        "    super().__init__(numero, cuentah, caducidad, estado, cantidad)\n",
        "    return\n",
        "  def __str__ (self):\n",
        "    return Tarjeta.__str__(self) + '\\nTipo de tarjeta {} \\n Emisor: {} '.format(self.tipo, self.emisor)\n",
        "    "
      ],
      "metadata": {
        "id": "3YEECjQpvqdP"
      },
      "execution_count": 2,
      "outputs": []
    },
    {
      "cell_type": "code",
      "source": [
        "deb= Debito ('9110001', 'Angelica María', '05/26', 'Inactiva', 'Debito', 'Visa', 2500)"
      ],
      "metadata": {
        "id": "JY89mr9Bx9ne"
      },
      "execution_count": 3,
      "outputs": []
    },
    {
      "cell_type": "code",
      "source": [
        "print(deb)"
      ],
      "metadata": {
        "colab": {
          "base_uri": "https://localhost:8080/"
        },
        "id": "towa_VwpyYRA",
        "outputId": "cf0f9036-26ad-4a3d-faa1-0acf8279f8db"
      },
      "execution_count": 4,
      "outputs": [
        {
          "output_type": "stream",
          "name": "stdout",
          "text": [
            "Tarjeta número 9110001 del derechoabiente Angelica María tiene una fecha de expiración 05/26 , estado de la cuenta Inactiva, cuenta con un saldo $2500 \n",
            "Tipo de tarjeta Debito \n",
            " Emisor: Visa \n"
          ]
        }
      ]
    },
    {
      "cell_type": "code",
      "source": [
        "deb.activar()"
      ],
      "metadata": {
        "id": "z1v_TpjkzA-Y"
      },
      "execution_count": 5,
      "outputs": []
    },
    {
      "cell_type": "code",
      "source": [
        "print (deb.emisor)"
      ],
      "metadata": {
        "colab": {
          "base_uri": "https://localhost:8080/"
        },
        "id": "Z_LIXPe7zEs2",
        "outputId": "61fdc1ba-29fd-41da-d667-ce44bebc1f98"
      },
      "execution_count": 6,
      "outputs": [
        {
          "output_type": "stream",
          "name": "stdout",
          "text": [
            "Visa\n"
          ]
        }
      ]
    },
    {
      "cell_type": "code",
      "source": [
        "print(deb.cuentahabiente)"
      ],
      "metadata": {
        "colab": {
          "base_uri": "https://localhost:8080/"
        },
        "id": "RzjE5g3pzIQF",
        "outputId": "9222466b-9a78-47d4-f55b-e56b266c6947"
      },
      "execution_count": 7,
      "outputs": [
        {
          "output_type": "stream",
          "name": "stdout",
          "text": [
            "Angelica María\n"
          ]
        }
      ]
    },
    {
      "cell_type": "code",
      "source": [
        "deb.deposito(1000)"
      ],
      "metadata": {
        "colab": {
          "base_uri": "https://localhost:8080/",
          "height": 35
        },
        "id": "CKpFE-VVzMqf",
        "outputId": "5399af42-3929-4c1f-ab61-fe7eff08b17f"
      },
      "execution_count": 9,
      "outputs": [
        {
          "output_type": "execute_result",
          "data": {
            "text/plain": [
              "'El saldo nuevo de la tarejeta es 4500'"
            ],
            "application/vnd.google.colaboratory.intrinsic+json": {
              "type": "string"
            }
          },
          "metadata": {},
          "execution_count": 9
        }
      ]
    },
    {
      "cell_type": "code",
      "source": [
        "deb.retirar(1000)"
      ],
      "metadata": {
        "colab": {
          "base_uri": "https://localhost:8080/"
        },
        "id": "KAzZ4vCB0L0v",
        "outputId": "45c37ee2-b692-4f36-8a39-590ac61eae31"
      },
      "execution_count": 10,
      "outputs": [
        {
          "output_type": "stream",
          "name": "stdout",
          "text": [
            "el saldo nuevo de la tarjeta es 3500 \n"
          ]
        }
      ]
    },
    {
      "cell_type": "markdown",
      "source": [
        "creamos tarjeta de credito"
      ],
      "metadata": {
        "id": "Vo849ZuE1BMH"
      }
    },
    {
      "cell_type": "code",
      "source": [
        "class Credito (Tarjeta):\n",
        "  def __init__(self, numero, cuentah, caducidad, estado, tipo, emisor, limite, cantidad = 0):\n",
        "    self.tipo = tipo\n",
        "    self.emisor = emisor\n",
        "    self.limite = limite\n",
        "    super().__init__(numero, cuentah, caducidad, estado, cantidad)\n",
        "    return\n",
        "  def __str__ (self):\n",
        "    return Tarjeta.__str__(self) + '\\nTipo de tarjeta {} \\n Emisor: {} '.format(self.tipo, self.emisor, self.limite)"
      ],
      "metadata": {
        "id": "jwsKw0f207HI"
      },
      "execution_count": 11,
      "outputs": []
    },
    {
      "cell_type": "code",
      "source": [
        "tdc= Credito ('9110001', 'Angelica María', '05/26', 'Inactiva', 'Credito', 'Mastercard', 35000, 2500)"
      ],
      "metadata": {
        "id": "ObzAR5nx2E6D"
      },
      "execution_count": 12,
      "outputs": []
    },
    {
      "cell_type": "code",
      "source": [
        "print(tdc)"
      ],
      "metadata": {
        "colab": {
          "base_uri": "https://localhost:8080/"
        },
        "id": "flzrZWv92VLb",
        "outputId": "aaeb6698-04eb-4537-8890-09fa35dcce79"
      },
      "execution_count": 13,
      "outputs": [
        {
          "output_type": "stream",
          "name": "stdout",
          "text": [
            "Tarjeta número 9110001 del derechoabiente Angelica María tiene una fecha de expiración 05/26 , estado de la cuenta Inactiva, cuenta con un saldo $2500 \n",
            "Tipo de tarjeta Credito \n",
            " Emisor: Mastercard \n"
          ]
        }
      ]
    },
    {
      "cell_type": "code",
      "source": [
        "tdc.activar()"
      ],
      "metadata": {
        "id": "mgO-5YSH2Y1s"
      },
      "execution_count": 14,
      "outputs": []
    },
    {
      "cell_type": "code",
      "source": [
        "print(tdc.estado)"
      ],
      "metadata": {
        "colab": {
          "base_uri": "https://localhost:8080/"
        },
        "id": "Cu-sx9pL2crI",
        "outputId": "e2823000-74bd-4f5b-b9dc-225aac5b46b4"
      },
      "execution_count": 15,
      "outputs": [
        {
          "output_type": "stream",
          "name": "stdout",
          "text": [
            "Activa\n"
          ]
        }
      ]
    },
    {
      "cell_type": "code",
      "source": [
        "print(tdc)"
      ],
      "metadata": {
        "colab": {
          "base_uri": "https://localhost:8080/"
        },
        "id": "nLpbkJz-2iWV",
        "outputId": "7a2c7809-fced-4a20-c21b-da20ebf8706f"
      },
      "execution_count": 16,
      "outputs": [
        {
          "output_type": "stream",
          "name": "stdout",
          "text": [
            "Tarjeta número 9110001 del derechoabiente Angelica María tiene una fecha de expiración 05/26 , estado de la cuenta Activa, cuenta con un saldo $2500 \n",
            "Tipo de tarjeta Credito \n",
            " Emisor: Mastercard \n"
          ]
        }
      ]
    },
    {
      "cell_type": "code",
      "source": [
        "tdc.limite= 45000"
      ],
      "metadata": {
        "id": "rZZ2qRM58NhH"
      },
      "execution_count": 17,
      "outputs": []
    },
    {
      "cell_type": "code",
      "source": [
        "print(tdc.caducidad)"
      ],
      "metadata": {
        "colab": {
          "base_uri": "https://localhost:8080/"
        },
        "id": "5Lwd9jq18SmQ",
        "outputId": "1cf1025e-2d89-4ec4-935a-32c4f17c3d7a"
      },
      "execution_count": 18,
      "outputs": [
        {
          "output_type": "stream",
          "name": "stdout",
          "text": [
            "05/26\n"
          ]
        }
      ]
    },
    {
      "cell_type": "markdown",
      "source": [
        "Crear tarjeta de puntos:"
      ],
      "metadata": {
        "id": "_15fnPN58lqL"
      }
    },
    {
      "cell_type": "code",
      "source": [
        "class Puntos (Tarjeta):\n",
        "  def __init__(self, numero, cuentah, caducidad, estado, tipo, cantidad = 0):\n",
        "    self.tipo = tipo\n",
        "    super().__init__(numero, cuentah, caducidad, estado, cantidad)\n",
        "    return\n",
        "  def __str__ (self):\n",
        "    return Tarjeta.__str__(self) + '\\nTipo de tarjeta {} '.format(self.tipo,)"
      ],
      "metadata": {
        "id": "wHQoMO6e8oJz"
      },
      "execution_count": 19,
      "outputs": []
    },
    {
      "cell_type": "code",
      "source": [
        "puntos = Puntos ('9110001', 'Angelica Maria', '05/26', 'Inactiva', 'Puntos Premis', 500)"
      ],
      "metadata": {
        "id": "1WTioJhS9HtL"
      },
      "execution_count": 20,
      "outputs": []
    },
    {
      "cell_type": "code",
      "source": [
        "print(puntos)"
      ],
      "metadata": {
        "colab": {
          "base_uri": "https://localhost:8080/"
        },
        "id": "xTKzDCM59Yg-",
        "outputId": "498fb3a3-444e-4c44-c1d1-62d9fe779e09"
      },
      "execution_count": 21,
      "outputs": [
        {
          "output_type": "stream",
          "name": "stdout",
          "text": [
            "Tarjeta número 9110001 del derechoabiente Angelica Maria tiene una fecha de expiración 05/26 , estado de la cuenta Inactiva, cuenta con un saldo $500 \n",
            "Tipo de tarjeta Puntos Premis \n"
          ]
        }
      ]
    },
    {
      "cell_type": "code",
      "source": [
        "puntos.activar()"
      ],
      "metadata": {
        "id": "YaSgTOIS9b5a"
      },
      "execution_count": 22,
      "outputs": []
    },
    {
      "cell_type": "code",
      "source": [
        "print(puntos.estado)"
      ],
      "metadata": {
        "colab": {
          "base_uri": "https://localhost:8080/"
        },
        "id": "v4aNEhay9ihV",
        "outputId": "2bb599d9-37ca-457f-9241-9cc0b4cbc263"
      },
      "execution_count": 23,
      "outputs": [
        {
          "output_type": "stream",
          "name": "stdout",
          "text": [
            "Activa\n"
          ]
        }
      ]
    },
    {
      "cell_type": "markdown",
      "source": [
        "Print de las 3 tarjetas:"
      ],
      "metadata": {
        "id": "P8vCsm_o_pHR"
      }
    },
    {
      "cell_type": "code",
      "source": [
        "print(deb)\n",
        "print(\"**************************\")\n",
        "print(tdc)\n",
        "print(\"**************************\")\n",
        "print(puntos)"
      ],
      "metadata": {
        "colab": {
          "base_uri": "https://localhost:8080/"
        },
        "id": "rQn2oDyb9sY9",
        "outputId": "de925665-47b3-4dce-c61e-20ff0bb3db68"
      },
      "execution_count": 24,
      "outputs": [
        {
          "output_type": "stream",
          "name": "stdout",
          "text": [
            "Tarjeta número 9110001 del derechoabiente Angelica María tiene una fecha de expiración 05/26 , estado de la cuenta Activa, cuenta con un saldo $3500 \n",
            "Tipo de tarjeta Debito \n",
            " Emisor: Visa \n",
            "**************************\n",
            "Tarjeta número 9110001 del derechoabiente Angelica María tiene una fecha de expiración 05/26 , estado de la cuenta Activa, cuenta con un saldo $2500 \n",
            "Tipo de tarjeta Credito \n",
            " Emisor: Mastercard \n",
            "**************************\n",
            "Tarjeta número 9110001 del derechoabiente Angelica Maria tiene una fecha de expiración 05/26 , estado de la cuenta Activa, cuenta con un saldo $500 \n",
            "Tipo de tarjeta Puntos Premis \n"
          ]
        }
      ]
    },
    {
      "cell_type": "code",
      "source": [
        "class Vehiculo():\n",
        "  def __init__(self, color, ruedas):\n",
        "    self.color = color\n",
        "    self.ruedas = ruedas\n",
        "  def __str__(self):\n",
        "    return \"Color {}, {}\".format( self.color, self.ruedas)\n",
        "\n",
        "class Coche(Vehiculo):\n",
        "  def __init__(self, color, ruedas, velocidad, cilindro):\n",
        "    self.color = color\n",
        "    self.ruedas = ruedas\n",
        "    self.velocidad = velocidad\n",
        "    self.cilindro = cilindro\n",
        "  \n",
        "  def __str__(self):\n",
        "    return \"color {}, {} km/h, {} ruedas, {} cc\".format(self.color, self.velocidad, self.ruedas, self.cilindro)\n",
        "\n",
        "coche = Coche(\"azul\", 4, 150, 1200)\n",
        "print(coche)"
      ],
      "metadata": {
        "colab": {
          "base_uri": "https://localhost:8080/"
        },
        "id": "L7QgZRUAAQ-R",
        "outputId": "8247fbe1-f167-4cec-9ac0-2cdf7fba0788"
      },
      "execution_count": 25,
      "outputs": [
        {
          "output_type": "stream",
          "name": "stdout",
          "text": [
            "color azul, 150 km/h, 4 ruedas, 1200 cc\n"
          ]
        }
      ]
    }
  ]
}